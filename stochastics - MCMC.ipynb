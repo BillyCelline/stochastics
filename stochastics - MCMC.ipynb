{
 "cells": [
  {
   "cell_type": "code",
   "execution_count": 378,
   "metadata": {},
   "outputs": [],
   "source": [
    "import numpy as np\n",
    "import scipy as sp\n",
    "import matplotlib.pyplot as plt\n",
    "import seaborn as sns\n",
    "import pandas as pd\n",
    "import pymc3 as pm\n",
    "\n",
    "import theano\n",
    "import theano.tensor as tt\n",
    "from theano.compile.ops import as_op\n",
    "\n",
    "from scipy.stats import nbinom\n",
    "from scipy.stats import beta\n",
    "from scipy.stats import uniform\n",
    "from scipy.stats import geom\n",
    "from scipy.stats import norm\n",
    "from scipy.special import comb\n",
    "from scipy.optimize import minimize\n",
    "\n",
    "%matplotlib inline"
   ]
  },
  {
   "cell_type": "markdown",
   "metadata": {},
   "source": [
    "(a)"
   ]
  },
  {
   "cell_type": "code",
   "execution_count": 210,
   "metadata": {},
   "outputs": [],
   "source": [
    "#setup\n",
    "\n",
    "m = 5\n",
    "r = [x for x in range(3,8)]\n",
    "q = [0.1, 0.3, 0.3, 0.2, 0.1]\n",
    "H = [2, 6, 1, 2, 5, 2, 6, 5, 1, 9, 11, 6, 4, 10]\n",
    "H_t = [x for x in range(1,len(H)+1)]"
   ]
  },
  {
   "cell_type": "code",
   "execution_count": 211,
   "metadata": {},
   "outputs": [
    {
     "data": {
      "text/plain": [
       "<matplotlib.collections.LineCollection at 0x1c22547208>"
      ]
     },
     "execution_count": 211,
     "metadata": {},
     "output_type": "execute_result"
    },
    {
     "data": {
      "image/png": "[encoded data removed]",
      "text/plain": [
       "<Figure size 432x288 with 1 Axes>"
      ]
     },
     "metadata": {},
     "output_type": "display_data"
    }
   ],
   "source": [
    "#prior pmf\n",
    "\n",
    "fig, ax = plt.subplots(1, 1)\n",
    "ax.plot(r, q, 'ro', ms=14, label='Prior')\n",
    "ax.vlines(r, 0, q, colors='r', lw=5, alpha=0.5)"
   ]
  },
  {
   "cell_type": "code",
   "execution_count": 212,
   "metadata": {},
   "outputs": [
    {
     "data": {
      "text/plain": [
       "<matplotlib.collections.LineCollection at 0x1c23cc8a58>"
      ]
     },
     "execution_count": 212,
     "metadata": {},
     "output_type": "execute_result"
    },
    {
     "data": {
      "image/png": "[encoded data removed]",
      "text/plain": [
       "<Figure size 432x288 with 1 Axes>"
      ]
     },
     "metadata": {},
     "output_type": "display_data"
    }
   ],
   "source": [
    "#likelihood: negative binomial distribution\n",
    "\n",
    "n, p = 14, 0.5\n",
    "fig, ax = plt.subplots(1, 1)\n",
    "\n",
    "x = np.arange(nbinom.ppf(0.001, n, p), nbinom.ppf(.999, n, p))\n",
    "ax.plot(x, nbinom.pmf(x, n, p), 'bo', ms=14, label='Likelihood')\n",
    "ax.vlines(x, 0, nbinom.pmf(x, n, p), colors='b', lw=5, alpha=0.5)"
   ]
  },
  {
   "cell_type": "code",
   "execution_count": 213,
   "metadata": {},
   "outputs": [
    {
     "data": {
      "text/plain": [
       "array([ 0.00461227,  0.2518874 ,  0.54711427,  0.18127722,  0.01510884])"
      ]
     },
     "execution_count": 213,
     "metadata": {},
     "output_type": "execute_result"
    }
   ],
   "source": [
    "#posterior\n",
    "\n",
    "p = q.copy()\n",
    "\n",
    "for j in range(0,len(r)):\n",
    "    for i in range(0,len(H)):\n",
    "        p[j] = p[j]*comb(H[i]+r[j]-1, H[i])/(2**(H[i]+r[j]))\n",
    "\n",
    "p=p/sum(p)\n",
    "p"
   ]
  },
  {
   "cell_type": "code",
   "execution_count": 214,
   "metadata": {},
   "outputs": [
    {
     "data": {
      "text/plain": [
       "<matplotlib.collections.LineCollection at 0x1c23dc4358>"
      ]
     },
     "execution_count": 214,
     "metadata": {},
     "output_type": "execute_result"
    },
    {
     "data": {
      "image/png": "[encoded data removed]",
      "text/plain": [
       "<Figure size 432x288 with 1 Axes>"
      ]
     },
     "metadata": {},
     "output_type": "display_data"
    }
   ],
   "source": [
    "#posterior\n",
    "\n",
    "fig, ax = plt.subplots(1, 1)\n",
    "ax.plot(r, p, 'ro', ms=14, label='Prior')\n",
    "ax.vlines(r, 0, p, colors='r', lw=5, alpha=0.5)"
   ]
  },
  {
   "cell_type": "code",
   "execution_count": 200,
   "metadata": {},
   "outputs": [],
   "source": [
    "def calc(X, b, r, c, J, mu):\n",
    "    blop = 0.0\n",
    "    if c > 0: blop += X[r,c-1]\n",
    "    if c < 2: blop += X[r,c+1]\n",
    "    if r > 0: blop += X[r-1,c]\n",
    "    if r < 2: blop += X[r+1,c]\n",
    "        \n",
    "    factor = - J * blop - mu * b[r,c]\n",
    "    neg = np.exp(- (-1. * factor))\n",
    "    pos = np.exp(- (+1. * factor))\n",
    "    return neg / (neg + pos)"
   ]
  },
  {
   "cell_type": "code",
   "execution_count": 235,
   "metadata": {},
   "outputs": [],
   "source": [
    "def gibbin_it_up(init, X, J, mu, iters, trace):\n",
    "    for s in range(iters):\n",
    "        test = np.random.uniform(size=(3, 3))\n",
    "        for r in range(3):\n",
    "            for c in range(3):\n",
    "                p = calc(init, X, r, c, J, mu)\n",
    "                init[r,c] = -1. if test[r,c] < p else +1.\n",
    "        trace[s] = init.sum()"
   ]
  },
  {
   "cell_type": "code",
   "execution_count": 236,
   "metadata": {},
   "outputs": [],
   "source": [
    "#a\n",
    "\n",
    "init = np.array([[1,1,1],\n",
    "              [-1,-1,-1],\n",
    "              [-1,-1,-1]])\n",
    "X = np.where(np.random.uniform(size=(3,3)) < 1. - 0.5, -1, 1)\n",
    "iters = 1000000\n",
    "j = 1\n",
    "mu = 0\n",
    "\n",
    "trace = np.zeros(iters)\n",
    "gibbin_it_up(init, X, j, mu, iters, trace)\n",
    "trace_a = trace.copy()"
   ]
  },
  {
   "cell_type": "code",
   "execution_count": 244,
   "metadata": {},
   "outputs": [
    {
     "name": "stdout",
     "output_type": "stream",
     "text": [
      "Probability:  0.963437333333\n"
     ]
    }
   ],
   "source": [
    "for_ci = abs(trace_a)/9\n",
    "mean = np.mean(for_ci)\n",
    "print('Probability: ', mean)"
   ]
  },
  {
   "cell_type": "code",
   "execution_count": 256,
   "metadata": {},
   "outputs": [
    {
     "name": "stdout",
     "output_type": "stream",
     "text": [
      "90% CI:  (0.96259739137821465, 0.96427727528845208)\n"
     ]
    }
   ],
   "source": [
    "q = 100000\n",
    "batched = np.zeros(10)\n",
    "for x in range(0,10):\n",
    "    batched[x] = np.mean(for_ci[x*q:(x+1)*q])\n",
    "var = sum((batched-mean)**2)/(len(batched)-1)\n",
    "\n",
    "CI = sp.stats.t.interval(0.90, len(batched)-1, \n",
    "                       loc=mean, \n",
    "                       scale=np.sqrt(var))\n",
    "\n",
    "print('90% CI: ', CI)"
   ]
  },
  {
   "cell_type": "code",
   "execution_count": 215,
   "metadata": {},
   "outputs": [],
   "source": [
    "#b\n",
    "\n",
    "init = np.array([[1,1,1],\n",
    "              [-1,-1,-1],\n",
    "              [-1,-1,-1]])\n",
    "X = np.where(np.random.uniform(size=(3,3)) < 1. - 0.5, -1, 1)\n",
    "iters = 1000000\n",
    "j = 4\n",
    "mu = 0\n",
    "\n",
    "trace = np.zeros(iters)\n",
    "gibbin_it_up(init, X, j, mu, iters, trace)\n",
    "trace_b = trace.copy()"
   ]
  },
  {
   "cell_type": "code",
   "execution_count": 257,
   "metadata": {},
   "outputs": [
    {
     "name": "stdout",
     "output_type": "stream",
     "text": [
      "Probability:  0.999999555556\n"
     ]
    }
   ],
   "source": [
    "for_ci = abs(trace_b)/9\n",
    "mean = np.mean(for_ci)\n",
    "print('Probability: ', mean)"
   ]
  },
  {
   "cell_type": "code",
   "execution_count": 258,
   "metadata": {},
   "outputs": [
    {
     "name": "stdout",
     "output_type": "stream",
     "text": [
      "90% CI:  (0.99999697919463315, 1.000002131916478)\n"
     ]
    }
   ],
   "source": [
    "q = 100000\n",
    "batched = np.zeros(10)\n",
    "for x in range(0,10):\n",
    "    batched[x] = np.mean(for_ci[x*q:(x+1)*q])\n",
    "var = sum((batched-mean)**2)/(len(batched)-1)\n",
    "\n",
    "CI = sp.stats.t.interval(0.90, len(batched)-1, \n",
    "                       loc=mean, \n",
    "                       scale=np.sqrt(var))\n",
    "\n",
    "print('90% CI: ', CI)"
   ]
  },
  {
   "cell_type": "markdown",
   "metadata": {},
   "source": [
    "(a)\n",
    "\n",
    "We can represent the random walk on the cayley tree as a markov chain by specifying the transition probabilities as such:\n",
    "\n",
    "\n",
    "$\n",
    "P_{uv} = p_{ij}= \n",
    "\\begin{cases}\n",
    "    \\frac{1}{k},& \\text{if } i \\neq j\\\\\n",
    "    0,              & \\text{if } i=j\n",
    "\\end{cases}\n",
    "$\n",
    "\n",
    "This makes sense for both nodes and leaves on the tree. \n",
    "\n",
    "If you're at a node, you can move on any of the other edges to the next node or leaf with uniform distribution $P_{uv}=p_{ij}=\\frac{1}{k}$ with $k$ representing the adjacent edges, but you can't move to to yourself, hence the $p_{ii}=0$\n",
    "\n",
    "If you're at a leaf, again, you can't move to yourself, so you have to move backwards with $P_{uv}=p_{ij}=\\frac{1}{k}=1$"
   ]
  },
  {
   "cell_type": "markdown",
   "metadata": {},
   "source": [
    "(b)\n",
    "\n",
    "The markov chain is irreducible. You can get to any of the states through the other states without getting stuck in a state or class of states."
   ]
  },
  {
   "cell_type": "markdown",
   "metadata": {},
   "source": [
    "(c)\n",
    "\n",
    "The markov chain is aperiodic. There is no guaranteed return to a certain state over a given time period."
   ]
  },
  {
   "cell_type": "markdown",
   "metadata": {},
   "source": [
    "(d)\n",
    "\n",
    "Over a random walk on graph G = (E edges,V vertices) we can show that the equilibrium $\\pi_u = \\frac{k_u}{2E}$ such that: \n",
    "\n",
    "$\\pi P = \\pi$\n",
    "\n",
    "whereas\n",
    "\n",
    "$\\pi P = \\sum_u = P_{uv}\\pi_u$\n",
    "\n",
    "$= \\sum_{u:(u,v)\\in E} \\frac{k_u}{2E}\\frac{1}{k_u}$\n",
    "\n",
    "$= \\sum_{u:(u,v)\\in E} \\frac{1}{2E} = \\pi_u$"
   ]
  },
  {
   "cell_type": "markdown",
   "metadata": {},
   "source": [
    "verify with transition matrix"
   ]
  },
  {
   "cell_type": "markdown",
   "metadata": {},
   "source": [
    "(a)"
   ]
  },
  {
   "cell_type": "code",
   "execution_count": 373,
   "metadata": {},
   "outputs": [],
   "source": [
    "observed = [7,7,7,7,7,6,4,7,5,5,5,5,7,6,6,7]"
   ]
  },
  {
   "cell_type": "code",
   "execution_count": 374,
   "metadata": {},
   "outputs": [],
   "source": [
    "def lik(p):\n",
    "    return ((p+(1.0-p)**5)**4)*p*(1.0-p)*p*((1.0-p)**2)*\\\n",
    "    ((1.0-p)**2)*p*((1.0-p)**2)*(p**3)*((1.0-p)**3)*p*(1.0-p)*p*((1.0-p)**4)"
   ]
  },
  {
   "cell_type": "code",
   "execution_count": 375,
   "metadata": {},
   "outputs": [],
   "source": [
    "def log_lik(p):\n",
    "    return -1*sp.log(lik(p))"
   ]
  },
  {
   "cell_type": "code",
   "execution_count": 376,
   "metadata": {},
   "outputs": [],
   "source": [
    "res = minimize(log_lik, 0.01, method = 'nelder-mead')\n",
    "mle = res.x.tolist()[0]"
   ]
  },
  {
   "cell_type": "code",
   "execution_count": 377,
   "metadata": {},
   "outputs": [
    {
     "name": "stdout",
     "output_type": "stream",
     "text": [
      "MLE:  0.3630625000000006\n"
     ]
    }
   ],
   "source": [
    "print('MLE: ',mle)"
   ]
  },
  {
   "cell_type": "code",
   "execution_count": 414,
   "metadata": {},
   "outputs": [],
   "source": [
    "def likelihood(p, data):\n",
    "    def l(p):\n",
    "        if data[0] == 7:\n",
    "            l = (p+(1.0-p))**4\n",
    "        elif data[0] == 6:\n",
    "            l = (p*(1.0-p))\n",
    "        elif data[0] == 5:\n",
    "            l = (p*(1.0-p)**2)\n",
    "        elif data[0] == 4:\n",
    "            l = (p*(1.0-p)**3)\n",
    "        elif data[0] == 3:\n",
    "            l = (p*(1.0-p)**4)\n",
    "        else:\n",
    "            l=1\n",
    "        for i in range(1,len(data)):\n",
    "            delta = data[i-1]-data[i]\n",
    "            if data[i] == 7:\n",
    "                if delta == 0:\n",
    "                    l *= (p*(1.0-p))**4\n",
    "                elif delta == -1:\n",
    "                    l *= ((1.0-p)**4)\n",
    "                elif delta == -2:\n",
    "                    l *= ((1.0-p)**3)\n",
    "                elif delta == -3:\n",
    "                    l *= ((1.0-p)**2)\n",
    "                else:\n",
    "                    l *= 1.0\n",
    "            elif data[i] == 6:\n",
    "                if delta == 1:\n",
    "                    l *= (p*(1.0-p))\n",
    "                elif delta == 0:\n",
    "                    l *= p\n",
    "                else:\n",
    "                    l *= 1.0\n",
    "            elif data[i] == 5:\n",
    "                if delta == 1:\n",
    "                    l *= (p*(1.0-p))\n",
    "                elif delta == 2:\n",
    "                    l *= (p*(1.0-p)**2)\n",
    "                elif delta == 0:\n",
    "                    l *= p\n",
    "                else:\n",
    "                    l *= 1.0\n",
    "            elif data[i] == 4:\n",
    "                if delta == 1:\n",
    "                    l *= (p*(1.0-p))\n",
    "                elif delta == 2:\n",
    "                    l *= (p*(1.0-p)**2)\n",
    "                elif delta == 3:\n",
    "                    l *= (p*(1.0-p)**3)\n",
    "                elif delta == 0:\n",
    "                    l *= p\n",
    "                else:\n",
    "                    l *= 1.0\n",
    "            elif data[i] == 3:\n",
    "                if delta == 1:\n",
    "                    l *= (p*(1.0-p))\n",
    "                elif delta == 2:\n",
    "                    l *= (p*(1.0-p)**2)\n",
    "                elif delta == 3:\n",
    "                    l *= (p*(1.0-p)**3)\n",
    "                elif delta == 4:\n",
    "                    l *= (p*(1.0-p)**4)\n",
    "                elif delta == 0:\n",
    "                    l *= p\n",
    "                else:\n",
    "                    l *= 1.0\n",
    "            else:\n",
    "                l *= 1\n",
    "        return l\n",
    "    return l(p)"
   ]
  },
  {
   "cell_type": "markdown",
   "metadata": {},
   "source": [
    "(b)\n",
    "\n",
    "as we increase the amount of samples, we can see that the band on the confidence intervals for our estimator gets tighter and tighter"
   ]
  },
  {
   "cell_type": "code",
   "execution_count": 486,
   "metadata": {},
   "outputs": [],
   "source": [
    "def booter(b):\n",
    "    j = 5\n",
    "    r = geom.rvs(0.3630625, size=b*j).tolist()\n",
    "    for y in range(len(r)):\n",
    "        if r[y] <= 2 or r[y] > 7: \n",
    "            r[y] = 7\n",
    "    trace = np.zeros(int(len(r)/5))\n",
    "    for i in range(int(len(r)/5)):\n",
    "        k = r[j*i:j*i+5]\n",
    "        def b(p): return -1*sp.log(likelihood(p, k))\n",
    "        res = minimize(b, 0.01, method='nelder-mead')\n",
    "        trace[i] = res.x.tolist()[0]\n",
    "    return trace"
   ]
  },
  {
   "cell_type": "code",
   "execution_count": 503,
   "metadata": {},
   "outputs": [
    {
     "data": {
      "image/png": "[encoded data removed]",
      "text/plain": [
       "<Figure size 432x288 with 1 Axes>"
      ]
     },
     "metadata": {},
     "output_type": "display_data"
    },
    {
     "name": "stdout",
     "output_type": "stream",
     "text": [
      "90% CI:  (0.31849745923035844, 0.41989004076964265)\n"
     ]
    }
   ],
   "source": [
    "b = 10\n",
    "res = booter(b)\n",
    "res = res.tolist()\n",
    "plt.hist(res)        \n",
    "plt.show()\n",
    "CI = sp.stats.t.interval(0.90, len(res)-1, \n",
    "                       loc=np.mean(res), \n",
    "                       scale=sp.stats.sem(res))\n",
    "\n",
    "print('90% CI: ', CI)"
   ]
  },
  {
   "cell_type": "code",
   "execution_count": 504,
   "metadata": {},
   "outputs": [
    {
     "data": {
      "image/png": "[encoded data removed]",
      "text/plain": [
       "<Figure size 432x288 with 1 Axes>"
      ]
     },
     "metadata": {},
     "output_type": "display_data"
    },
    {
     "name": "stdout",
     "output_type": "stream",
     "text": [
      "90% CI:  (0.37512035002364941, 0.41366464997635177)\n"
     ]
    }
   ],
   "source": [
    "b = 50\n",
    "res = booter(b)\n",
    "res = res.tolist()\n",
    "plt.hist(res)        \n",
    "plt.show()\n",
    "CI = sp.stats.t.interval(0.90, len(res)-1, \n",
    "                       loc=np.mean(res), \n",
    "                       scale=sp.stats.sem(res))\n",
    "\n",
    "print('90% CI: ', CI)"
   ]
  },
  {
   "cell_type": "code",
   "execution_count": 505,
   "metadata": {},
   "outputs": [
    {
     "data": {
      "image/png": "[encoded data removed]",
      "text/plain": [
       "<Figure size 432x288 with 1 Axes>"
      ]
     },
     "metadata": {},
     "output_type": "display_data"
    },
    {
     "name": "stdout",
     "output_type": "stream",
     "text": [
      "90% CI:  (0.36469073681811909, 0.39627176318188201)\n"
     ]
    }
   ],
   "source": [
    "b = 100\n",
    "res = booter(b)\n",
    "res = res.tolist()\n",
    "plt.hist(res)        \n",
    "plt.show()\n",
    "CI = sp.stats.t.interval(0.90, len(res)-1, \n",
    "                       loc=np.mean(res), \n",
    "                       scale=sp.stats.sem(res))\n",
    "\n",
    "print('90% CI: ', CI)"
   ]
  },
  {
   "cell_type": "code",
   "execution_count": 506,
   "metadata": {},
   "outputs": [
    {
     "data": {
      "image/png": "[encoded data removed]",
      "text/plain": [
       "<Figure size 432x288 with 1 Axes>"
      ]
     },
     "metadata": {},
     "output_type": "display_data"
    },
    {
     "name": "stdout",
     "output_type": "stream",
     "text": [
      "90% CI:  (0.38788532432502887, 0.40047567567497233)\n"
     ]
    }
   ],
   "source": [
    "b = 500\n",
    "res = booter(b)\n",
    "res = res.tolist()\n",
    "plt.hist(res)        \n",
    "plt.show()\n",
    "CI = sp.stats.t.interval(0.90, len(res)-1, \n",
    "                       loc=np.mean(res), \n",
    "                       scale=sp.stats.sem(res))\n",
    "\n",
    "print('90% CI: ', CI)"
   ]
  },
  {
   "cell_type": "code",
   "execution_count": 507,
   "metadata": {},
   "outputs": [
    {
     "data": {
      "image/png": "[encoded data removed]",
      "text/plain": [
       "<Figure size 432x288 with 1 Axes>"
      ]
     },
     "metadata": {},
     "output_type": "display_data"
    },
    {
     "name": "stdout",
     "output_type": "stream",
     "text": [
      "90% CI:  (0.38280644656816126, 0.39214467843183992)\n"
     ]
    }
   ],
   "source": [
    "b = 1000\n",
    "res = booter(b)\n",
    "res = res.tolist()\n",
    "plt.hist(res)        \n",
    "plt.show()\n",
    "CI = sp.stats.t.interval(0.90, len(res)-1, \n",
    "                       loc=np.mean(res), \n",
    "                       scale=sp.stats.sem(res))\n",
    "\n",
    "print('90% CI: ', CI)"
   ]
  },
  {
   "cell_type": "markdown",
   "metadata": {},
   "source": [
    "(c)\n",
    "\n",
    "One way to think about this (and compare simulation results), would be to look at the expectation given by $\\frac{1-p^*}{p^*}$"
   ]
  },
  {
   "cell_type": "code",
   "execution_count": 501,
   "metadata": {},
   "outputs": [
    {
     "data": {
      "text/plain": [
       "1.7543467033912847"
      ]
     },
     "execution_count": 501,
     "metadata": {},
     "output_type": "execute_result"
    }
   ],
   "source": [
    "(1-mle)/mle"
   ]
  },
  {
   "cell_type": "code",
   "execution_count": 494,
   "metadata": {},
   "outputs": [],
   "source": [
    "def new_booter(b):\n",
    "    j = 5\n",
    "    r = geom.rvs(0.3630625, size=b*j).tolist()\n",
    "    trace = np.zeros(int(len(r)/5))\n",
    "    for i in range(int(len(r)/5)):\n",
    "        k = r[j*i:j*i+5]\n",
    "        likelihood(p, k)\n",
    "        trace[i] = np.mean(k)\n",
    "    return trace"
   ]
  },
  {
   "cell_type": "code",
   "execution_count": 498,
   "metadata": {},
   "outputs": [
    {
     "name": "stdout",
     "output_type": "stream",
     "text": [
      "90% CI:  (2.7265609879059305, 3.0614390120940689)\n"
     ]
    }
   ],
   "source": [
    "res = new_booter(100)\n",
    "\n",
    "CI = sp.stats.t.interval(0.90, len(res)-1, \n",
    "                       loc=np.mean(res), \n",
    "                       scale=sp.stats.sem(res))\n",
    "\n",
    "print('90% CI: ', CI)"
   ]
  },
  {
   "cell_type": "code",
   "execution_count": 500,
   "metadata": {},
   "outputs": [
    {
     "name": "stdout",
     "output_type": "stream",
     "text": [
      "Mean:  2.894\n"
     ]
    },
    {
     "data": {
      "image/png": "[encoded data removed]",
      "text/plain": [
       "<Figure size 432x288 with 1 Axes>"
      ]
     },
     "metadata": {},
     "output_type": "display_data"
    }
   ],
   "source": [
    "print('Mean: ',np.mean(res))\n",
    "plt.hist(res)        \n",
    "plt.show()"
   ]
  },
  {
   "cell_type": "code",
   "execution_count": null,
   "metadata": {},
   "outputs": [],
   "source": []
  }
 ],
 "metadata": {
  "kernelspec": {
   "display_name": "Python 3",
   "language": "python",
   "name": "python3"
  },
  "language_info": {
   "codemirror_mode": {
    "name": "ipython",
    "version": 3
   },
   "file_extension": ".py",
   "mimetype": "text/x-python",
   "name": "python",
   "nbconvert_exporter": "python",
   "pygments_lexer": "ipython3",
   "version": "3.6.8"
  }
 },
 "nbformat": 4,
 "nbformat_minor": 2
}
