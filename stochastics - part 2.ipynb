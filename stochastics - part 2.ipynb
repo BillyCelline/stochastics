{
 "cells": [
  {
   "cell_type": "code",
   "execution_count": 2,
   "metadata": {},
   "outputs": [],
   "source": [
    "library('tidyverse', 'stats')"
   ]
  },
  {
   "cell_type": "markdown",
   "metadata": {},
   "source": [
    "(a)\n",
    "\n",
    "In this case, we set up our transition matrix given the poisson distribution with $\\lambda = 6/5$. However, we want to set up the matrix with states 0 (no cars) and 6 (cars have to leave) as absorbing; i.e., probability 1. Thus, we have a 7x7 transition matrix.\n",
    "\n",
    "We know that as time moves towards infinity, the probability of not being absorbed approaches 0, so we can just push the matrix through multiplications of itself in order to clear out the transitions between our absorbing states, leaving us with just the ultimate probabilities of cars emptying and cars turning away.\n",
    "\n"
   ]
  },
  {
   "cell_type": "code",
   "execution_count": 54,
   "metadata": {},
   "outputs": [
    {
     "name": "stdout",
     "output_type": "stream",
     "text": [
      "G"
     ]
    },
    {
     "data": {
      "text/html": [
       "<table>\n",
       "<tbody>\n",
       "\t<tr><td>1.0000000  </td><td>0.0000000  </td><td>0.0000000  </td><td>0.00000000 </td><td>0.00000000 </td><td>0.000000000</td><td>0.000000000</td></tr>\n",
       "\t<tr><td>0.3011942  </td><td>0.3614331  </td><td>0.2168598  </td><td>0.08674393 </td><td>0.02602318 </td><td>0.006245563</td><td>0.001500225</td></tr>\n",
       "\t<tr><td>0.0000000  </td><td>0.3011942  </td><td>0.3614331  </td><td>0.21685983 </td><td>0.08674393 </td><td>0.026023180</td><td>0.007745788</td></tr>\n",
       "\t<tr><td>0.0000000  </td><td>0.0000000  </td><td>0.3011942  </td><td>0.36143305 </td><td>0.21685983 </td><td>0.086743933</td><td>0.033768968</td></tr>\n",
       "\t<tr><td>0.0000000  </td><td>0.0000000  </td><td>0.0000000  </td><td>0.30119421 </td><td>0.36143305 </td><td>0.216859833</td><td>0.120512901</td></tr>\n",
       "\t<tr><td>0.0000000  </td><td>0.0000000  </td><td>0.0000000  </td><td>0.00000000 </td><td>0.30119421 </td><td>0.361433054</td><td>0.337372734</td></tr>\n",
       "\t<tr><td>0.0000000  </td><td>0.0000000  </td><td>0.0000000  </td><td>0.00000000 </td><td>0.00000000 </td><td>0.000000000</td><td>1.000000000</td></tr>\n",
       "</tbody>\n",
       "</table>\n"
      ],
      "text/latex": [
       "\\begin{tabular}{lllllll}\n",
       "\t 1.0000000   & 0.0000000   & 0.0000000   & 0.00000000  & 0.00000000  & 0.000000000 & 0.000000000\\\\\n",
       "\t 0.3011942   & 0.3614331   & 0.2168598   & 0.08674393  & 0.02602318  & 0.006245563 & 0.001500225\\\\\n",
       "\t 0.0000000   & 0.3011942   & 0.3614331   & 0.21685983  & 0.08674393  & 0.026023180 & 0.007745788\\\\\n",
       "\t 0.0000000   & 0.0000000   & 0.3011942   & 0.36143305  & 0.21685983  & 0.086743933 & 0.033768968\\\\\n",
       "\t 0.0000000   & 0.0000000   & 0.0000000   & 0.30119421  & 0.36143305  & 0.216859833 & 0.120512901\\\\\n",
       "\t 0.0000000   & 0.0000000   & 0.0000000   & 0.00000000  & 0.30119421  & 0.361433054 & 0.337372734\\\\\n",
       "\t 0.0000000   & 0.0000000   & 0.0000000   & 0.00000000  & 0.00000000  & 0.000000000 & 1.000000000\\\\\n",
       "\\end{tabular}\n"
      ],
      "text/markdown": [
       "\n",
       "| 1.0000000   | 0.0000000   | 0.0000000   | 0.00000000  | 0.00000000  | 0.000000000 | 0.000000000 | \n",
       "| 0.3011942   | 0.3614331   | 0.2168598   | 0.08674393  | 0.02602318  | 0.006245563 | 0.001500225 | \n",
       "| 0.0000000   | 0.3011942   | 0.3614331   | 0.21685983  | 0.08674393  | 0.026023180 | 0.007745788 | \n",
       "| 0.0000000   | 0.0000000   | 0.3011942   | 0.36143305  | 0.21685983  | 0.086743933 | 0.033768968 | \n",
       "| 0.0000000   | 0.0000000   | 0.0000000   | 0.30119421  | 0.36143305  | 0.216859833 | 0.120512901 | \n",
       "| 0.0000000   | 0.0000000   | 0.0000000   | 0.00000000  | 0.30119421  | 0.361433054 | 0.337372734 | \n",
       "| 0.0000000   | 0.0000000   | 0.0000000   | 0.00000000  | 0.00000000  | 0.000000000 | 1.000000000 | \n",
       "\n",
       "\n"
      ],
      "text/plain": [
       "     [,1]      [,2]      [,3]      [,4]       [,5]       [,6]       \n",
       "[1,] 1.0000000 0.0000000 0.0000000 0.00000000 0.00000000 0.000000000\n",
       "[2,] 0.3011942 0.3614331 0.2168598 0.08674393 0.02602318 0.006245563\n",
       "[3,] 0.0000000 0.3011942 0.3614331 0.21685983 0.08674393 0.026023180\n",
       "[4,] 0.0000000 0.0000000 0.3011942 0.36143305 0.21685983 0.086743933\n",
       "[5,] 0.0000000 0.0000000 0.0000000 0.30119421 0.36143305 0.216859833\n",
       "[6,] 0.0000000 0.0000000 0.0000000 0.00000000 0.30119421 0.361433054\n",
       "[7,] 0.0000000 0.0000000 0.0000000 0.00000000 0.00000000 0.000000000\n",
       "     [,7]       \n",
       "[1,] 0.000000000\n",
       "[2,] 0.001500225\n",
       "[3,] 0.007745788\n",
       "[4,] 0.033768968\n",
       "[5,] 0.120512901\n",
       "[6,] 0.337372734\n",
       "[7,] 1.000000000"
      ]
     },
     "metadata": {},
     "output_type": "display_data"
    }
   ],
   "source": [
    "## a\n",
    "\n",
    "lambda <- 6/5\n",
    "p_vec <- matrix(sapply(0:5, function(i) ppois(i,lambda)-ppois(i-1,lambda)),nrow=1)\n",
    "G <- rbind(c(1, 0, 0, 0, 0, 0, 0), \n",
    "           c(p_vec, 1-sum(p_vec)),\n",
    "           c(0, p_vec[1:5], 1-sum(p_vec[1:5])),\n",
    "           c(0, 0, p_vec[1:4], 1-sum(p_vec[1:4])),\n",
    "           c(0, 0, 0, p_vec[1:3], 1-sum(p_vec[1:3])),\n",
    "           c(0, 0, 0, 0, p_vec[1:2], 1-sum(p_vec[1:2])),\n",
    "           c(0, 0, 0, 0, 0, 0, 1))\n",
    "\n",
    "cat('G')\n",
    "G"
   ]
  },
  {
   "cell_type": "code",
   "execution_count": 55,
   "metadata": {},
   "outputs": [
    {
     "data": {
      "text/html": [
       "<table>\n",
       "<tbody>\n",
       "\t<tr><td>1.00000000</td><td>0         </td><td>0         </td><td>0         </td><td>0         </td><td>0         </td><td>0.0000000 </td></tr>\n",
       "\t<tr><td>0.65444723</td><td>0         </td><td>0         </td><td>0         </td><td>0         </td><td>0         </td><td>0.3455528 </td></tr>\n",
       "\t<tr><td>0.41729160</td><td>0         </td><td>0         </td><td>0         </td><td>0         </td><td>0         </td><td>0.5827084 </td></tr>\n",
       "\t<tr><td>0.25453214</td><td>0         </td><td>0         </td><td>0         </td><td>0         </td><td>0         </td><td>0.7454679 </td></tr>\n",
       "\t<tr><td>0.14295438</td><td>0         </td><td>0         </td><td>0         </td><td>0         </td><td>0         </td><td>0.8570456 </td></tr>\n",
       "\t<tr><td>0.06742759</td><td>0         </td><td>0         </td><td>0         </td><td>0         </td><td>0         </td><td>0.9325724 </td></tr>\n",
       "\t<tr><td>0.00000000</td><td>0         </td><td>0         </td><td>0         </td><td>0         </td><td>0         </td><td>1.0000000 </td></tr>\n",
       "</tbody>\n",
       "</table>\n"
      ],
      "text/latex": [
       "\\begin{tabular}{lllllll}\n",
       "\t 1.00000000 & 0          & 0          & 0          & 0          & 0          & 0.0000000 \\\\\n",
       "\t 0.65444723 & 0          & 0          & 0          & 0          & 0          & 0.3455528 \\\\\n",
       "\t 0.41729160 & 0          & 0          & 0          & 0          & 0          & 0.5827084 \\\\\n",
       "\t 0.25453214 & 0          & 0          & 0          & 0          & 0          & 0.7454679 \\\\\n",
       "\t 0.14295438 & 0          & 0          & 0          & 0          & 0          & 0.8570456 \\\\\n",
       "\t 0.06742759 & 0          & 0          & 0          & 0          & 0          & 0.9325724 \\\\\n",
       "\t 0.00000000 & 0          & 0          & 0          & 0          & 0          & 1.0000000 \\\\\n",
       "\\end{tabular}\n"
      ],
      "text/markdown": [
       "\n",
       "| 1.00000000 | 0          | 0          | 0          | 0          | 0          | 0.0000000  | \n",
       "| 0.65444723 | 0          | 0          | 0          | 0          | 0          | 0.3455528  | \n",
       "| 0.41729160 | 0          | 0          | 0          | 0          | 0          | 0.5827084  | \n",
       "| 0.25453214 | 0          | 0          | 0          | 0          | 0          | 0.7454679  | \n",
       "| 0.14295438 | 0          | 0          | 0          | 0          | 0          | 0.8570456  | \n",
       "| 0.06742759 | 0          | 0          | 0          | 0          | 0          | 0.9325724  | \n",
       "| 0.00000000 | 0          | 0          | 0          | 0          | 0          | 1.0000000  | \n",
       "\n",
       "\n"
      ],
      "text/plain": [
       "     [,1]       [,2] [,3] [,4] [,5] [,6] [,7]     \n",
       "[1,] 1.00000000 0    0    0    0    0    0.0000000\n",
       "[2,] 0.65444723 0    0    0    0    0    0.3455528\n",
       "[3,] 0.41729160 0    0    0    0    0    0.5827084\n",
       "[4,] 0.25453214 0    0    0    0    0    0.7454679\n",
       "[5,] 0.14295438 0    0    0    0    0    0.8570456\n",
       "[6,] 0.06742759 0    0    0    0    0    0.9325724\n",
       "[7,] 0.00000000 0    0    0    0    0    1.0000000"
      ]
     },
     "metadata": {},
     "output_type": "display_data"
    }
   ],
   "source": [
    "G_stat <- G\n",
    "for(i in 1:100){G_stat <- G_stat%*%G_stat}\n",
    "G_stat"
   ]
  },
  {
   "cell_type": "markdown",
   "metadata": {},
   "source": [
    "Since we started with two cars in the lot, the desired probability is that we go into state 0 from state 2: 41.73%"
   ]
  },
  {
   "cell_type": "code",
   "execution_count": 56,
   "metadata": {},
   "outputs": [
    {
     "name": "stdout",
     "output_type": "stream",
     "text": [
      "Probability of Gas Station Emptying:  0.4172916"
     ]
    }
   ],
   "source": [
    "cat('Probability of Gas Station Emptying: ',G_stat[3,1])"
   ]
  },
  {
   "cell_type": "markdown",
   "metadata": {},
   "source": [
    "(b)\n",
    "\n",
    "Unlike the 7x7 matrix shown above, for this part of the problem we're not concerned with the probability that cars will get turned away - only the probability that the lot will empty, and thus we will use a 6x6 matrix to model the expected time until the lot empties."
   ]
  },
  {
   "cell_type": "code",
   "execution_count": 57,
   "metadata": {},
   "outputs": [
    {
     "name": "stdout",
     "output_type": "stream",
     "text": [
      "New G"
     ]
    },
    {
     "data": {
      "text/html": [
       "<table>\n",
       "<tbody>\n",
       "\t<tr><td>0.3011942  </td><td>0.3614331  </td><td>0.2168598  </td><td>0.08674393 </td><td>0.02602318 </td><td>0.007745788</td></tr>\n",
       "\t<tr><td>0.3011942  </td><td>0.3614331  </td><td>0.2168598  </td><td>0.08674393 </td><td>0.02602318 </td><td>0.007745788</td></tr>\n",
       "\t<tr><td>0.0000000  </td><td>0.3011942  </td><td>0.3614331  </td><td>0.21685983 </td><td>0.08674393 </td><td>0.033768968</td></tr>\n",
       "\t<tr><td>0.0000000  </td><td>0.0000000  </td><td>0.3011942  </td><td>0.36143305 </td><td>0.21685983 </td><td>0.120512901</td></tr>\n",
       "\t<tr><td>0.0000000  </td><td>0.0000000  </td><td>0.0000000  </td><td>0.30119421 </td><td>0.36143305 </td><td>0.337372734</td></tr>\n",
       "\t<tr><td>0.0000000  </td><td>0.0000000  </td><td>0.0000000  </td><td>0.00000000 </td><td>0.30119421 </td><td>0.698805788</td></tr>\n",
       "</tbody>\n",
       "</table>\n"
      ],
      "text/latex": [
       "\\begin{tabular}{llllll}\n",
       "\t 0.3011942   & 0.3614331   & 0.2168598   & 0.08674393  & 0.02602318  & 0.007745788\\\\\n",
       "\t 0.3011942   & 0.3614331   & 0.2168598   & 0.08674393  & 0.02602318  & 0.007745788\\\\\n",
       "\t 0.0000000   & 0.3011942   & 0.3614331   & 0.21685983  & 0.08674393  & 0.033768968\\\\\n",
       "\t 0.0000000   & 0.0000000   & 0.3011942   & 0.36143305  & 0.21685983  & 0.120512901\\\\\n",
       "\t 0.0000000   & 0.0000000   & 0.0000000   & 0.30119421  & 0.36143305  & 0.337372734\\\\\n",
       "\t 0.0000000   & 0.0000000   & 0.0000000   & 0.00000000  & 0.30119421  & 0.698805788\\\\\n",
       "\\end{tabular}\n"
      ],
      "text/markdown": [
       "\n",
       "| 0.3011942   | 0.3614331   | 0.2168598   | 0.08674393  | 0.02602318  | 0.007745788 | \n",
       "| 0.3011942   | 0.3614331   | 0.2168598   | 0.08674393  | 0.02602318  | 0.007745788 | \n",
       "| 0.0000000   | 0.3011942   | 0.3614331   | 0.21685983  | 0.08674393  | 0.033768968 | \n",
       "| 0.0000000   | 0.0000000   | 0.3011942   | 0.36143305  | 0.21685983  | 0.120512901 | \n",
       "| 0.0000000   | 0.0000000   | 0.0000000   | 0.30119421  | 0.36143305  | 0.337372734 | \n",
       "| 0.0000000   | 0.0000000   | 0.0000000   | 0.00000000  | 0.30119421  | 0.698805788 | \n",
       "\n",
       "\n"
      ],
      "text/plain": [
       "     [,1]      [,2]      [,3]      [,4]       [,5]       [,6]       \n",
       "[1,] 0.3011942 0.3614331 0.2168598 0.08674393 0.02602318 0.007745788\n",
       "[2,] 0.3011942 0.3614331 0.2168598 0.08674393 0.02602318 0.007745788\n",
       "[3,] 0.0000000 0.3011942 0.3614331 0.21685983 0.08674393 0.033768968\n",
       "[4,] 0.0000000 0.0000000 0.3011942 0.36143305 0.21685983 0.120512901\n",
       "[5,] 0.0000000 0.0000000 0.0000000 0.30119421 0.36143305 0.337372734\n",
       "[6,] 0.0000000 0.0000000 0.0000000 0.00000000 0.30119421 0.698805788"
      ]
     },
     "metadata": {},
     "output_type": "display_data"
    }
   ],
   "source": [
    "new_vec <- matrix(c(G[2,1:5], 1-sum(G[2,1:5])), nrow=1)\n",
    "new_G <- rbind(new_vec, new_vec, \n",
    "               c(0, new_vec[1:4], 1-sum(new_vec[1:4])),\n",
    "               c(0, 0, new_vec[1:3], 1-sum(new_vec[1:3])),\n",
    "               c(0, 0, 0, new_vec[1:2], 1-sum(new_vec[1:2])),\n",
    "               c(0, 0, 0, 0, new_vec[1], 1-sum(new_vec[1])))\n",
    "cat('New G')\n",
    "new_G"
   ]
  },
  {
   "cell_type": "markdown",
   "metadata": {},
   "source": [
    "my probabilities kept getting truncated in R for some reason so I had to switch to python"
   ]
  },
  {
   "cell_type": "code",
   "execution_count": 1,
   "metadata": {},
   "outputs": [],
   "source": [
    "import numpy as np"
   ]
  },
  {
   "cell_type": "code",
   "execution_count": 2,
   "metadata": {},
   "outputs": [
    {
     "name": "stdout",
     "output_type": "stream",
     "text": [
      "Expected intervals: 51.70805830862676\n"
     ]
    }
   ],
   "source": [
    "B=np.array([\n",
    "        [0.301194212,0.301194212,0,0,0,0],\n",
    "        [0.361433054,0.361433054,0.301194212,0,0,0],\n",
    "        [0.216859833,0.216859833,0.361433054,0.301194212,0,0],\n",
    "        [0.086743933,0.086743933,0.216859833,0.361433054,0.301194212,0],\n",
    "        [0.02602318,0.02602318,0.086743933,0.216859833,0.361433054,0.301194212],\n",
    "        [0.007745788,0.007745788,0.033768968,0.120512901,0.337372734,0.698805788]\n",
    "        ])\n",
    "\n",
    "\n",
    "exp=0.0\n",
    "for i in range(1,1000):\n",
    "    prob=np.array([0,0,1,0,0,0]).dot(B.T)[0]\n",
    "    exp+=i*prob\n",
    "    B=B.dot(B)\n",
    "print('Expected intervals: {}'.format(exp))"
   ]
  },
  {
   "cell_type": "markdown",
   "metadata": {},
   "source": [
    "The expected amount of time intervals before the system empties is 52, or 8 hours and 40 minutes."
   ]
  },
  {
   "cell_type": "markdown",
   "metadata": {},
   "source": [
    "(a)\n",
    "\n",
    "We can say that a state is feasible if it's in $C = (a, b) : 0 \\leq a, b \\leq 4,(a, b) \\neq (4, 4)$\n",
    "\n",
    "Given that a state is feasible such that $(a,b) \\in C$, we can say:\n",
    "\n",
    "If $(a,b) \\leq 3:$\n",
    "\n",
    "$\\begin{equation}\n",
    "  P_{(a,b),(c,d)}=\\begin{cases}\n",
    "    p, & \\text{if $c = a + 1, d = b$}.\\\\\n",
    "    1-p, & \\text{if $c = a, d = b + 1$}.\\\\\n",
    "    0 & \\text{otherwise}.\n",
    "  \\end{cases}\n",
    "\\end{equation}$\n",
    "\n",
    "If $a\\ or\\ b = 4:$\n",
    "\n",
    "$\\begin{equation}\n",
    "  P_{(a,b),(c,d)}=\\begin{cases}\n",
    "    1, & \\text{if $c,d = a,b$}.\\\\\n",
    "    0 & \\text{otherwise}.\n",
    "  \\end{cases}\n",
    "\\end{equation}$"
   ]
  },
  {
   "cell_type": "markdown",
   "metadata": {},
   "source": [
    "(b)\n",
    "\n",
    "This is just a first transition analysis.\n",
    "\n",
    "If $a, b \\leq 4:$\n",
    "\n",
    "$p_{(a,b)} = p × p_{(a+1,b)} + (1 − p) × p_{(a,b+1)}, \\forall \\ (a, b) \\in C$\n",
    "\n",
    "Where we have a boundary that says \n",
    "\n",
    "$\\forall {(a, b) \\in C : a = 4\\ or\\ b = 4}$, such that $p_{(a,b)} = 0$ except when $p_{(1,4)} = p_{(4,1)} = 1$"
   ]
  },
  {
   "cell_type": "markdown",
   "metadata": {},
   "source": [
    "(c)\n",
    "\n",
    "It's possible to use a smaller state space. If we consider the possibility that both teams have each won 2 games, then we can basically say that it's impossible for either team to have won the series in 5 games. This is another boundary such that $p_{(3,2)} = p_{(2,3)} = 0$ with $a + b > 5$"
   ]
  },
  {
   "cell_type": "markdown",
   "metadata": {},
   "source": [
    "(d)\n",
    "\n",
    "This is another first transition analysis exercise.\n",
    "\n",
    "We can let $T =$ time left in the series. The system of equations is as follows.\n",
    "\n",
    "$T_{(a,b)} = 1 + p × T_{(a+1,b)} + (1 − p) × T_{(a,b+1)}$ solving for $T_{(0,0)}$\n",
    "\n",
    "If $a\\ or\\ b = 4$ then the series is over already. These are absorbing states. Thus, expected length after this point is 0: $T_{(a,b)}=0$\n",
    "\n"
   ]
  },
  {
   "cell_type": "markdown",
   "metadata": {},
   "source": [
    "(e)\n",
    "\n",
    "This just means that you you need to keep track of an extra step where the state has your $(a,b)$, but also keeps track of the last team to win - call it $l$. This variable can only take 2 values though - whichever team won in the last round."
   ]
  },
  {
   "cell_type": "code",
   "execution_count": 1,
   "metadata": {},
   "outputs": [
    {
     "name": "stdout",
     "output_type": "stream",
     "text": [
      "morning"
     ]
    },
    {
     "data": {
      "text/html": [
       "<table>\n",
       "<tbody>\n",
       "\t<tr><td>0.04</td><td>0.41</td><td>0.55</td></tr>\n",
       "\t<tr><td>0.36</td><td>0.21</td><td>0.43</td></tr>\n",
       "\t<tr><td>0.16</td><td>0.28</td><td>0.56</td></tr>\n",
       "</tbody>\n",
       "</table>\n"
      ],
      "text/latex": [
       "\\begin{tabular}{lll}\n",
       "\t 0.04 & 0.41 & 0.55\\\\\n",
       "\t 0.36 & 0.21 & 0.43\\\\\n",
       "\t 0.16 & 0.28 & 0.56\\\\\n",
       "\\end{tabular}\n"
      ],
      "text/markdown": [
       "\n",
       "| 0.04 | 0.41 | 0.55 | \n",
       "| 0.36 | 0.21 | 0.43 | \n",
       "| 0.16 | 0.28 | 0.56 | \n",
       "\n",
       "\n"
      ],
      "text/plain": [
       "     [,1] [,2] [,3]\n",
       "[1,] 0.04 0.41 0.55\n",
       "[2,] 0.36 0.21 0.43\n",
       "[3,] 0.16 0.28 0.56"
      ]
     },
     "metadata": {},
     "output_type": "display_data"
    },
    {
     "name": "stdout",
     "output_type": "stream",
     "text": [
      "afternoon"
     ]
    },
    {
     "data": {
      "text/html": [
       "<table>\n",
       "<tbody>\n",
       "\t<tr><td>0.26</td><td>0.37</td><td>0.37</td></tr>\n",
       "\t<tr><td>0.09</td><td>0.21</td><td>0.70</td></tr>\n",
       "\t<tr><td>0.23</td><td>0.28</td><td>0.49</td></tr>\n",
       "</tbody>\n",
       "</table>\n"
      ],
      "text/latex": [
       "\\begin{tabular}{lll}\n",
       "\t 0.26 & 0.37 & 0.37\\\\\n",
       "\t 0.09 & 0.21 & 0.70\\\\\n",
       "\t 0.23 & 0.28 & 0.49\\\\\n",
       "\\end{tabular}\n"
      ],
      "text/markdown": [
       "\n",
       "| 0.26 | 0.37 | 0.37 | \n",
       "| 0.09 | 0.21 | 0.70 | \n",
       "| 0.23 | 0.28 | 0.49 | \n",
       "\n",
       "\n"
      ],
      "text/plain": [
       "     [,1] [,2] [,3]\n",
       "[1,] 0.26 0.37 0.37\n",
       "[2,] 0.09 0.21 0.70\n",
       "[3,] 0.23 0.28 0.49"
      ]
     },
     "metadata": {},
     "output_type": "display_data"
    },
    {
     "name": "stdout",
     "output_type": "stream",
     "text": [
      "evening"
     ]
    },
    {
     "data": {
      "text/html": [
       "<table>\n",
       "<tbody>\n",
       "\t<tr><td>0.38</td><td>0.37</td><td>0.25</td></tr>\n",
       "\t<tr><td>0.49</td><td>0.06</td><td>0.45</td></tr>\n",
       "\t<tr><td>0.16</td><td>0.22</td><td>0.62</td></tr>\n",
       "</tbody>\n",
       "</table>\n"
      ],
      "text/latex": [
       "\\begin{tabular}{lll}\n",
       "\t 0.38 & 0.37 & 0.25\\\\\n",
       "\t 0.49 & 0.06 & 0.45\\\\\n",
       "\t 0.16 & 0.22 & 0.62\\\\\n",
       "\\end{tabular}\n"
      ],
      "text/markdown": [
       "\n",
       "| 0.38 | 0.37 | 0.25 | \n",
       "| 0.49 | 0.06 | 0.45 | \n",
       "| 0.16 | 0.22 | 0.62 | \n",
       "\n",
       "\n"
      ],
      "text/plain": [
       "     [,1] [,2] [,3]\n",
       "[1,] 0.38 0.37 0.25\n",
       "[2,] 0.49 0.06 0.45\n",
       "[3,] 0.16 0.22 0.62"
      ]
     },
     "metadata": {},
     "output_type": "display_data"
    },
    {
     "name": "stdout",
     "output_type": "stream",
     "text": [
      "night"
     ]
    },
    {
     "data": {
      "text/html": [
       "<table>\n",
       "<tbody>\n",
       "\t<tr><td>0.15</td><td>0.13</td><td>0.72</td></tr>\n",
       "\t<tr><td>0.62</td><td>0.02</td><td>0.36</td></tr>\n",
       "\t<tr><td>0.10</td><td>0.63</td><td>0.27</td></tr>\n",
       "</tbody>\n",
       "</table>\n"
      ],
      "text/latex": [
       "\\begin{tabular}{lll}\n",
       "\t 0.15 & 0.13 & 0.72\\\\\n",
       "\t 0.62 & 0.02 & 0.36\\\\\n",
       "\t 0.10 & 0.63 & 0.27\\\\\n",
       "\\end{tabular}\n"
      ],
      "text/markdown": [
       "\n",
       "| 0.15 | 0.13 | 0.72 | \n",
       "| 0.62 | 0.02 | 0.36 | \n",
       "| 0.10 | 0.63 | 0.27 | \n",
       "\n",
       "\n"
      ],
      "text/plain": [
       "     [,1] [,2] [,3]\n",
       "[1,] 0.15 0.13 0.72\n",
       "[2,] 0.62 0.02 0.36\n",
       "[3,] 0.10 0.63 0.27"
      ]
     },
     "metadata": {},
     "output_type": "display_data"
    }
   ],
   "source": [
    "morning <- matrix(rbind(c(.04, .41, .55), c(.36, .21, .43), c(.16, .28, .56)), nrow=3,ncol=3)\n",
    "afternoon <- matrix(rbind(c(.26, .37, .37), c(.09, .21, .70), c(.23, .28, .49)), nrow=3,ncol=3)\n",
    "evening <- matrix(rbind(c(.38, .37, .25), c(.49, .06, .45), c(.16, .22, .62)), nrow=3,ncol=3)\n",
    "night <- matrix(rbind(c(.15, .13, .72), c(.62, .02, .36), c(.10, .63, .27)), nrow=3,ncol=3)\n",
    "\n",
    "cat('morning')\n",
    "morning\n",
    "cat('afternoon')\n",
    "afternoon\n",
    "cat('evening')\n",
    "evening\n",
    "cat('night')\n",
    "night"
   ]
  },
  {
   "cell_type": "markdown",
   "metadata": {},
   "source": [
    "(a) \n",
    "\n",
    "X is not a time homogenous markov chain. The transition matrices vary based on the time of day, incorporating a seasonality effect on the the probabilities of moving between low, medium, and high workloads.\n",
    "\n",
    "We can find the transition probabilities of X by simple matrix multiplication of each shift, starting with the shift you begin in and ending with the shift before the one you end in. For example, if we wanted to compute the probability distributions for starting in the afternoon and ending in the afternoon, we would do:\n",
    "\n",
    "$X = P_{afternoon}*P_{evening}*P_{night}*P_{morning}$"
   ]
  },
  {
   "cell_type": "code",
   "execution_count": 2,
   "metadata": {},
   "outputs": [
    {
     "name": "stdout",
     "output_type": "stream",
     "text": [
      "X_n"
     ]
    },
    {
     "data": {
      "text/html": [
       "<table>\n",
       "<tbody>\n",
       "\t<tr><td>0.2011911</td><td>0.2850189</td><td>0.5137900</td></tr>\n",
       "\t<tr><td>0.2107338</td><td>0.2812866</td><td>0.5079795</td></tr>\n",
       "\t<tr><td>0.2032133</td><td>0.2846044</td><td>0.5121823</td></tr>\n",
       "</tbody>\n",
       "</table>\n"
      ],
      "text/latex": [
       "\\begin{tabular}{lll}\n",
       "\t 0.2011911 & 0.2850189 & 0.5137900\\\\\n",
       "\t 0.2107338 & 0.2812866 & 0.5079795\\\\\n",
       "\t 0.2032133 & 0.2846044 & 0.5121823\\\\\n",
       "\\end{tabular}\n"
      ],
      "text/markdown": [
       "\n",
       "| 0.2011911 | 0.2850189 | 0.5137900 | \n",
       "| 0.2107338 | 0.2812866 | 0.5079795 | \n",
       "| 0.2032133 | 0.2846044 | 0.5121823 | \n",
       "\n",
       "\n"
      ],
      "text/plain": [
       "     [,1]      [,2]      [,3]     \n",
       "[1,] 0.2011911 0.2850189 0.5137900\n",
       "[2,] 0.2107338 0.2812866 0.5079795\n",
       "[3,] 0.2032133 0.2846044 0.5121823"
      ]
     },
     "metadata": {},
     "output_type": "display_data"
    }
   ],
   "source": [
    "X_n = afternoon%*%evening%*%night%*%morning\n",
    "cat('X_n')\n",
    "X_n"
   ]
  },
  {
   "cell_type": "markdown",
   "metadata": {},
   "source": [
    "(b)\n",
    "\n",
    "Because $X_0$ is $P_{afternoon}$, we know that as $Y_m$ moves forward 1, $X_{4m}$ moves forward 4, and we're back at the afternoon matrix. Therefore, $Y_m$ is simply the afternoon matrix, and is actually a time homogenous markov chain.\n"
   ]
  },
  {
   "cell_type": "code",
   "execution_count": 3,
   "metadata": {},
   "outputs": [
    {
     "name": "stdout",
     "output_type": "stream",
     "text": [
      "Ym"
     ]
    },
    {
     "data": {
      "text/html": [
       "<table>\n",
       "<tbody>\n",
       "\t<tr><td>0.26</td><td>0.37</td><td>0.37</td></tr>\n",
       "\t<tr><td>0.09</td><td>0.21</td><td>0.70</td></tr>\n",
       "\t<tr><td>0.23</td><td>0.28</td><td>0.49</td></tr>\n",
       "</tbody>\n",
       "</table>\n"
      ],
      "text/latex": [
       "\\begin{tabular}{lll}\n",
       "\t 0.26 & 0.37 & 0.37\\\\\n",
       "\t 0.09 & 0.21 & 0.70\\\\\n",
       "\t 0.23 & 0.28 & 0.49\\\\\n",
       "\\end{tabular}\n"
      ],
      "text/markdown": [
       "\n",
       "| 0.26 | 0.37 | 0.37 | \n",
       "| 0.09 | 0.21 | 0.70 | \n",
       "| 0.23 | 0.28 | 0.49 | \n",
       "\n",
       "\n"
      ],
      "text/plain": [
       "     [,1] [,2] [,3]\n",
       "[1,] 0.26 0.37 0.37\n",
       "[2,] 0.09 0.21 0.70\n",
       "[3,] 0.23 0.28 0.49"
      ]
     },
     "metadata": {},
     "output_type": "display_data"
    }
   ],
   "source": [
    "#b\n",
    "\n",
    "Y_m <- afternoon\n",
    "cat('Ym')\n",
    "Y_m"
   ]
  },
  {
   "cell_type": "markdown",
   "metadata": {},
   "source": [
    "(c)\n",
    "\n",
    "Here we can take the initial distribution $\\mu$ from the afternoon of 1/7/2019 as being a high workload.\n",
    "\n",
    "From here we step forward from afternoon in state 3 > evening > night > morning > afternoon, 4 steps in total. Once we are in afternoon of the next day, we can determine the probability that the workload will be high as 52.53%"
   ]
  },
  {
   "cell_type": "code",
   "execution_count": 5,
   "metadata": {},
   "outputs": [
    {
     "data": {
      "text/html": [
       "0.5253813277"
      ],
      "text/latex": [
       "0.5253813277"
      ],
      "text/markdown": [
       "0.5253813277"
      ],
      "text/plain": [
       "[1] 0.5253813"
      ]
     },
     "metadata": {},
     "output_type": "display_data"
    }
   ],
   "source": [
    "x_c <- afternoon[3,]%*%evening%*%night%*%morning%*%afternoon\n",
    "x_c[3]"
   ]
  }
 ],
 "metadata": {
  "kernelspec": {
   "display_name": "Python 3",
   "language": "python",
   "name": "python3"
  },
  "language_info": {
   "codemirror_mode": {
    "name": "ipython",
    "version": 3
   },
   "file_extension": ".py",
   "mimetype": "text/x-python",
   "name": "python",
   "nbconvert_exporter": "python",
   "pygments_lexer": "ipython3",
   "version": "3.6.8"
  }
 },
 "nbformat": 4,
 "nbformat_minor": 2
}
