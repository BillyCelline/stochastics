{
 "cells": [
  {
   "cell_type": "code",
   "execution_count": 1,
   "metadata": {},
   "outputs": [],
   "source": [
    "import numpy as np\n",
    "import scipy\n",
    "from scipy.stats import poisson\n",
    "import matplotlib.pyplot as plt"
   ]
  },
  {
   "cell_type": "code",
   "execution_count": 2,
   "metadata": {},
   "outputs": [],
   "source": [
    "p = np.matrix([[1,0,0,0,0],\n",
    "               [0.8,0.1,0.1,0,0],\n",
    "               [0,0,0.8,0.2,0],\n",
    "               [0,0,0.1,0.8,0.1],\n",
    "               [0,0,0,0.1,0.9]])\n",
    "\n",
    "p_eq = np.linalg.matrix_power(p,100000)"
   ]
  },
  {
   "cell_type": "code",
   "execution_count": 3,
   "metadata": {},
   "outputs": [
    {
     "data": {
      "text/plain": [
       "matrix([[1. , 0. , 0. , 0. , 0. ],\n",
       "        [0.8, 0.1, 0.1, 0. , 0. ],\n",
       "        [0. , 0. , 0.8, 0.2, 0. ],\n",
       "        [0. , 0. , 0.1, 0.8, 0.1],\n",
       "        [0. , 0. , 0. , 0.1, 0.9]])"
      ]
     },
     "execution_count": 3,
     "metadata": {},
     "output_type": "execute_result"
    }
   ],
   "source": [
    "p"
   ]
  },
  {
   "cell_type": "markdown",
   "metadata": {},
   "source": [
    "(a)\n",
    "\n",
    "There are 2 closed communicating classes:\n",
    "\n",
    "$C_1 \\in (A)$\n",
    "\n",
    "$C_2 \\in (C,D,E)$"
   ]
  },
  {
   "cell_type": "markdown",
   "metadata": {},
   "source": [
    "(b)\n",
    "\n",
    "Lily pad A is an absorbing state. You can't move to another state once you're there. \n",
    "\n",
    "$P(X_{n+1} = C|X_{n} = A) = 0$ and the expected time to hit lily pad C is infinite."
   ]
  },
  {
   "cell_type": "markdown",
   "metadata": {},
   "source": [
    "(c)\n",
    "\n",
    "We need to compute $Var(T_c) = \\mathbb{E}_D[T_c^2] - \\mathbb{E}_D[T_c]^2$\n",
    "\n",
    "For the second half of this equation, we can use first transition analysis to compute the expected hitting time of lily pad $D$ given that it started on $C$.\n"
   ]
  },
  {
   "cell_type": "code",
   "execution_count": 11,
   "metadata": {},
   "outputs": [
    {
     "data": {
      "text/plain": [
       "matrix([[0.8, 0.1],\n",
       "        [0.1, 0.9]])"
      ]
     },
     "execution_count": 11,
     "metadata": {},
     "output_type": "execute_result"
    }
   ],
   "source": [
    "B = p[3:6,3:6]\n",
    "I = np.identity(B.shape[0])\n",
    "ones = np.ones(B.shape[0])\n",
    "\n",
    "u = np.linalg.inv(I-B)@ones\n",
    "B"
   ]
  },
  {
   "cell_type": "code",
   "execution_count": 12,
   "metadata": {},
   "outputs": [
    {
     "data": {
      "text/plain": [
       "matrix([[20., 30.]])"
      ]
     },
     "execution_count": 12,
     "metadata": {},
     "output_type": "execute_result"
    }
   ],
   "source": [
    "u"
   ]
  },
  {
   "cell_type": "markdown",
   "metadata": {},
   "source": [
    "Then, we can set up a system of linear equations to compute the first half of the variance calculation:\n",
    "\n",
    "$V_x = 1 + \\sum_{y \\in (D,E)} (v(y) + 2u(y))*P(X_1=y|X_0=x)$\n",
    "\n",
    "v(D) = 1 + (.8D + .8(2u(d))) + (.1E + .1(2u(e))) = .8D + .2E + 39\n",
    "\n",
    "v(E) = 1 + (.1D + .1(2u(d))) + (.9E + .9(2u(e))) = .1D + .9E + 59"
   ]
  },
  {
   "cell_type": "code",
   "execution_count": 57,
   "metadata": {},
   "outputs": [
    {
     "data": {
      "text/plain": [
       "matrix([[980.],\n",
       "        [785.]])"
      ]
     },
     "execution_count": 57,
     "metadata": {},
     "output_type": "execute_result"
    }
   ],
   "source": [
    "a = np.matrix([39, 59])\n",
    "var = np.linalg.inv(I-B)@a.T\n",
    "var"
   ]
  },
  {
   "cell_type": "markdown",
   "metadata": {},
   "source": [
    "Finally, we can compute $Var(T_c) = \\mathbb{E}_D[T_c^2] - \\mathbb{E}_D[T_c]^2$\n",
    "\n",
    "$Var(T_c) = 980 - 400 = 580$"
   ]
  },
  {
   "cell_type": "code",
   "execution_count": 58,
   "metadata": {},
   "outputs": [
    {
     "data": {
      "text/plain": [
       "580.0000000000002"
      ]
     },
     "execution_count": 58,
     "metadata": {},
     "output_type": "execute_result"
    }
   ],
   "source": [
    "(var[0,0]-u[0,0]**2)"
   ]
  },
  {
   "cell_type": "markdown",
   "metadata": {},
   "source": [
    "(d)\n",
    "\n",
    "We can break up the markov chain into its closed communicating classes and transient state.\n",
    "\n",
    "State A: We can expect the long run proportion of a bug in this state to be 100% if it started there. This is a closed communicating class.\n",
    "\n",
    "State B: This is a transient state. We can expect the long run proportion of a bug in this state to be 0% because there is an 88.89% chance that it will move to state A, a 2.22% chance that it will move to state C, and a 4.44% chance that it will move to state D or E.\n",
    "\n",
    "State C: We can expect the long run proportion of a bug in this state to be 20% because this is in a closed communicating class.\n",
    "\n",
    "State D: We can expect the long run proportion of a bug in this state to be 40% because this is in a closed communicating class.\n",
    "\n",
    "State E: We can expect the long run proportion of a bug in this state to be 40% because this is in a closed communicating class."
   ]
  },
  {
   "cell_type": "code",
   "execution_count": 47,
   "metadata": {},
   "outputs": [
    {
     "data": {
      "text/plain": [
       "matrix([[1.        , 0.        , 0.        , 0.        , 0.        ],\n",
       "        [0.88888889, 0.        , 0.02222222, 0.04444444, 0.04444444],\n",
       "        [0.        , 0.        , 0.2       , 0.4       , 0.4       ],\n",
       "        [0.        , 0.        , 0.2       , 0.4       , 0.4       ],\n",
       "        [0.        , 0.        , 0.2       , 0.4       , 0.4       ]])"
      ]
     },
     "execution_count": 47,
     "metadata": {},
     "output_type": "execute_result"
    }
   ],
   "source": [
    "p_eq"
   ]
  },
  {
   "cell_type": "markdown",
   "metadata": {},
   "source": [
    "(e)\n",
    "\n",
    "The frog on lily pad E turns E into an absorbing state. We can compute the expected hitting time of the bug hitting lily pad E"
   ]
  },
  {
   "cell_type": "code",
   "execution_count": 16,
   "metadata": {},
   "outputs": [
    {
     "data": {
      "text/plain": [
       "20.000000000000018"
      ]
     },
     "execution_count": 16,
     "metadata": {},
     "output_type": "execute_result"
    }
   ],
   "source": [
    "p_frog = np.matrix([[1,0,0,0,0],\n",
    "               [0.8,0.1,0.1,0,0],\n",
    "               [0,0,0.8,0.2,0],\n",
    "               [0,0,0.1,0.8,0.1],\n",
    "               [0,0,0,0,1]])\n",
    "\n",
    "B = p_frog[2:4,2:4]\n",
    "I = np.identity(B.shape[0])\n",
    "ones = np.ones(B.shape[0])\n",
    "\n",
    "u = np.linalg.inv(I-B)@ones\n",
    "u[0,0]"
   ]
  },
  {
   "cell_type": "markdown",
   "metadata": {},
   "source": [
    "(f)\n",
    "\n",
    "Infinite. Lily pad A is an absorbing state. The bug will never leave."
   ]
  },
  {
   "cell_type": "markdown",
   "metadata": {},
   "source": [
    "(a)\n",
    "\n",
    "We can use FTA with a vector of our holding cost function to estimate the holding cost until first replenishment."
   ]
  },
  {
   "cell_type": "code",
   "execution_count": 2,
   "metadata": {},
   "outputs": [],
   "source": [
    "A=np.zeros((31,31))\n",
    "#i is the initial number of items\n",
    "for i in range(31):\n",
    "    #j is the new number after decay\n",
    "    for j in range(1,i+1):\n",
    "        #i-j decayed out of i, with lambda=4\n",
    "        prob=poisson.pmf(i-j,8)\n",
    "        A[j][i]=prob\n",
    "    A[0][i]=1-np.sum(A[:,i])\n",
    "A=A.T\n",
    "\n",
    "C=np.zeros((31,31))\n",
    "#Do nothing if >=6\n",
    "for i in range(6,31):\n",
    "    C[i,i]=1\n",
    "#Refill to 30 if < 6\n",
    "C[30,0:6]=1\n",
    "C = C.T\n",
    "\n",
    "X = C@A"
   ]
  },
  {
   "cell_type": "code",
   "execution_count": 3,
   "metadata": {},
   "outputs": [
    {
     "name": "stdout",
     "output_type": "stream",
     "text": [
      "Holding Cost: [[ 5.38618181]]\n"
     ]
    }
   ],
   "source": [
    "#a\n",
    "\n",
    "B = X[6:31, 6:31]\n",
    "I = np.identity(B.shape[0])\n",
    "ones = np.ones(B.shape[0])\n",
    "\n",
    "cost = [1 for x in range(6,31)]\n",
    "j = 0\n",
    "for i in cost:\n",
    "    if j > 8:\n",
    "        cost[j]=2\n",
    "    j += 1\n",
    "cost = np.matrix(cost)\n",
    "    \n",
    "u = np.linalg.inv(I-B)@cost.T\n",
    "print('Holding Cost:', u[21])"
   ]
  },
  {
   "cell_type": "code",
   "execution_count": 4,
   "metadata": {},
   "outputs": [
    {
     "data": {
      "text/plain": [
       "matrix([[1, 1, 1, 1, 1, 1, 1, 1, 1, 2, 2, 2, 2, 2, 2, 2, 2, 2, 2, 2, 2, 2,\n",
       "         2, 2, 2]])"
      ]
     },
     "execution_count": 4,
     "metadata": {},
     "output_type": "execute_result"
    }
   ],
   "source": [
    "cost"
   ]
  },
  {
   "cell_type": "code",
   "execution_count": 5,
   "metadata": {},
   "outputs": [
    {
     "data": {
      "text/plain": [
       "matrix([[ 1.00033558],\n",
       "        [ 1.00302108],\n",
       "        [ 1.0137703 ],\n",
       "        [ 1.04247335],\n",
       "        [ 1.10003346],\n",
       "        [ 1.19262298],\n",
       "        [ 1.31739349],\n",
       "        [ 1.4630082 ],\n",
       "        [ 1.61468561],\n",
       "        [ 2.76068523],\n",
       "        [ 2.89739351],\n",
       "        [ 3.0313802 ],\n",
       "        [ 3.17724782],\n",
       "        [ 3.35120301],\n",
       "        [ 3.56301472],\n",
       "        [ 3.81097288],\n",
       "        [ 4.08292077],\n",
       "        [ 4.36236542],\n",
       "        [ 4.63562584],\n",
       "        [ 4.8961484 ],\n",
       "        [ 5.1446356 ],\n",
       "        [ 5.38618181],\n",
       "        [ 5.62665763],\n",
       "        [ 5.87012511],\n",
       "        [ 6.11794771]])"
      ]
     },
     "execution_count": 5,
     "metadata": {},
     "output_type": "execute_result"
    }
   ],
   "source": [
    "u"
   ]
  },
  {
   "cell_type": "markdown",
   "metadata": {},
   "source": [
    "(b)\n",
    "\n",
    "Below is a simulation of the variance computation where we find a 95% CI of the variance = $(1.4480, 1.6014)$"
   ]
  },
  {
   "cell_type": "code",
   "execution_count": 568,
   "metadata": {},
   "outputs": [
    {
     "name": "stdout",
     "output_type": "stream",
     "text": [
      "Variance of Holding Cost: 1.524759\n"
     ]
    }
   ],
   "source": [
    "#b\n",
    "\n",
    "A=np.zeros((31,31))\n",
    "L=8\n",
    "X0=27\n",
    "s0=15\n",
    "s=6\n",
    "S=30\n",
    "#i is the initial number of items\n",
    "for i in range(31):\n",
    "    for j in range(30,0,-1):\n",
    "        #j is the new number of items\n",
    "        if (j>i):\n",
    "            A[j][i]=0\n",
    "        else:\n",
    "            A[j][i]=poisson.pmf(i-j,L)\n",
    "    A[0][i]=1.0-np.sum(A[:,i])\n",
    "\n",
    "totalholdingcosts=[]\n",
    "#Run a simulation for statistics\n",
    "for loop in range(1000):\n",
    "    X=X0\n",
    "    h=0\n",
    "    while (X>=s): #while first replenish has not arrived\n",
    "        h+=1\n",
    "        if (X>s0): \n",
    "            h+=1\n",
    "        init=np.zeros((31,))\n",
    "        init[X]=1\n",
    "        r=np.random.rand()\n",
    "        prob=(A.dot(init.T))\n",
    "        for newX in range(31):\n",
    "            if r<np.sum(prob[:0+newX]):\n",
    "                break\n",
    "        X=newX #Now X is the new value after sales\n",
    "    totalholdingcosts.append(h)\n",
    "totalholdingcosts=np.array(totalholdingcosts)\n",
    "\n",
    "print('Variance of Holding Cost: {}'.format(np.var(totalholdingcosts)))"
   ]
  },
  {
   "cell_type": "code",
   "execution_count": 569,
   "metadata": {},
   "outputs": [
    {
     "name": "stdout",
     "output_type": "stream",
     "text": [
      "95% CI of Variance:  (1.448094829937303, 1.6014231700626969)\n"
     ]
    }
   ],
   "source": [
    "CI = scipy.stats.t.interval(0.95, len(totalholdingcosts)-1, \n",
    "                       loc=np.var(totalholdingcosts), \n",
    "                       scale=scipy.stats.sem(totalholdingcosts))\n",
    "\n",
    "print('95% CI of Variance: ', CI)"
   ]
  },
  {
   "cell_type": "markdown",
   "metadata": {},
   "source": [
    "(c)\n",
    "\n",
    "We start at day $n$ with $X_n = 20$ items available for sale. That means that there's maximum 20 items that can be sold. We use our A matrix because we don't want to incorporate the restocking aspect of the system, i.e., it's quite possible that we can sell 20 items, but if we used the full system, the probability would be 0 that our supplies would ever fall below 6. Therefore, we only use the matrix of poisson distributions."
   ]
  },
  {
   "cell_type": "code",
   "execution_count": 364,
   "metadata": {},
   "outputs": [
    {
     "name": "stdout",
     "output_type": "stream",
     "text": [
      "Expected Revenue:  23.999567528571358\n"
     ]
    }
   ],
   "source": [
    "#c\n",
    "\n",
    "rev_mat = A[20]\n",
    "      \n",
    "rev = 0\n",
    "for i in range(0,rev_mat.shape[0]):\n",
    "    rev += rev_mat[i]*3*(20-i)\n",
    "print('Expected Revenue: ',rev)"
   ]
  },
  {
   "cell_type": "code",
   "execution_count": 566,
   "metadata": {},
   "outputs": [],
   "source": [
    "rev_vec = np.zeros(25)\n",
    "x = 0\n",
    "for i in range(6,31):\n",
    "    rev_mat = A[i]\n",
    "    rev = 0\n",
    "    for j in range(0,31):\n",
    "        rev += rev_mat[j]*3*(max(0,i-j))\n",
    "    rev_vec[x] = rev\n",
    "    x += 1"
   ]
  },
  {
   "cell_type": "code",
   "execution_count": 567,
   "metadata": {},
   "outputs": [],
   "source": [
    "X_eq = np.linalg.matrix_power(X,10000)[6:31,6:31][1]"
   ]
  },
  {
   "cell_type": "markdown",
   "metadata": {},
   "source": [
    "(d)\n",
    "\n",
    "Again, we can run a simulation and derive a confidence interval $(19.9126, 20.8993)$ for the steady state revenue"
   ]
  },
  {
   "cell_type": "code",
   "execution_count": 559,
   "metadata": {},
   "outputs": [
    {
     "name": "stdout",
     "output_type": "stream",
     "text": [
      "Steady State Revenue : 20.406\n"
     ]
    }
   ],
   "source": [
    "revenues=[]\n",
    "X=X0\n",
    "#Simulation\n",
    "for loop in range(1000):\n",
    "    init=np.zeros((31,))\n",
    "    init[X]=1\n",
    "    r=np.random.rand()\n",
    "    prob=(A.dot(init.T))\n",
    "    for newX in range(31):\n",
    "        if r<np.sum(prob[:0+newX]):\n",
    "            break\n",
    "    revenues.append((X-newX)*3)\n",
    "    X=newX #Now X is the new value after sales\n",
    "    if (X<s):\n",
    "        X=30\n",
    "print('Steady State Revenue : {}'.format(np.mean(revenues)))  "
   ]
  },
  {
   "cell_type": "code",
   "execution_count": 561,
   "metadata": {},
   "outputs": [
    {
     "name": "stdout",
     "output_type": "stream",
     "text": [
      "95% CI of Steady State Revenue:  (19.912618892268036, 20.899381107731962)\n"
     ]
    }
   ],
   "source": [
    "CI = scipy.stats.t.interval(0.95, len(revenues)-1, \n",
    "                       loc=np.mean(revenues), \n",
    "                       scale=scipy.stats.sem(revenues))\n",
    "\n",
    "print('95% CI of Steady State Revenue: ', CI)"
   ]
  },
  {
   "cell_type": "code",
   "execution_count": 2,
   "metadata": {},
   "outputs": [],
   "source": [
    "library(tidyverse, stats)"
   ]
  },
  {
   "cell_type": "code",
   "execution_count": 25,
   "metadata": {},
   "outputs": [
    {
     "data": {},
     "metadata": {},
     "output_type": "display_data"
    },
    {
     "data": {
      "image/png": "[encoded data removed]",
      "text/plain": [
       "plot without title"
      ]
     },
     "metadata": {},
     "output_type": "display_data"
    }
   ],
   "source": [
    "#a\n",
    "\n",
    "x_age <- c(1,2,2,3,3,3,4,4,4,4,6,7,7,8,8,8,9,9,9,9)\n",
    "ggplot(data = data.frame(x_age), aes(x = x_age, fill = x_age)) + \n",
    "        geom_histogram(bins = 9, alpha = 1)"
   ]
  },
  {
   "cell_type": "markdown",
   "metadata": {},
   "source": [
    "(a)\n",
    "\n",
    "We can use the PMF of $X_n: p_k$ in conjunction with the regenerative ratio to find a closed form solution for the equilibrium of $X_n$ such that our solution models the cycles that begin at 1\n",
    "\n",
    "$\\frac{\\mathbb{E}_z[\\mathbb{1}(X_n=x)]}{\\mathbb{E}_z[\\tau(z)]}$ ratio of the time in the cycle and the expectation of hitting time\n",
    "\n",
    "where $\\tau = min(n\\geq 1: X_n = z)$ min time for $X$ to hit $z$\n",
    "\n",
    "$=\\mathbb{E}[\\sum_{n=1}^{\\tau_{z-1}}\\mathbb{1}(X_n=x)]$\n",
    "\n",
    "$=\\mathbb{E}[\\mathbb{1}(\\tau_{0}\\geq x)]$\n",
    "\n",
    "$= \\frac{\\sum_{k=x}^{\\infty}p_k}{\\sum_{k=1}^{\\infty}kp_k}$"
   ]
  },
  {
   "cell_type": "code",
   "execution_count": 23,
   "metadata": {},
   "outputs": [
    {
     "data": {},
     "metadata": {},
     "output_type": "display_data"
    },
    {
     "data": {
      "image/png": "[encoded data removed]",
      "text/plain": [
       "plot without title"
      ]
     },
     "metadata": {},
     "output_type": "display_data"
    }
   ],
   "source": [
    "#b\n",
    "\n",
    "Y_age <- c(1,1,1,1,1,2,2,2,2,3,3,3,4,4,5,7,7,7,8,8,9)\n",
    "ggplot(data = data.frame(Y_age), aes(x = Y_age, fill = Y_age)) + \n",
    "        geom_histogram(bins = 9, alpha = 1)"
   ]
  },
  {
   "cell_type": "markdown",
   "metadata": {},
   "source": [
    "(b)\n",
    "\n",
    "We can model $Y_n$ such that the cycles start at 0 and decline. We find the same closed formula as above despite offsetting our starting and ending points by 1.\n",
    "\n",
    "$=\\mathbb{E}[\\sum_{n=0}^{\\tau_{z-1}}\\mathbb{1}(X_n=x)]$\n",
    "\n",
    "$=\\mathbb{E}[\\mathbb{1}(\\tau_{0}\\geq x)]$\n",
    "\n",
    "$= \\frac{\\sum_{k=x}^{\\infty}p_k}{\\sum_{k=0}^{\\infty}kp_k}$"
   ]
  },
  {
   "cell_type": "markdown",
   "metadata": {},
   "source": [
    "(c)\n",
    "\n",
    "For this problem, we set $p_k \\sim Pois(\\lambda=4)$"
   ]
  },
  {
   "cell_type": "code",
   "execution_count": 3,
   "metadata": {},
   "outputs": [],
   "source": [
    "simulator <- function(n, prob)\n",
    "{\n",
    "    vec <- rep(0,1000)\n",
    "    mean_vec <- rep(0,1000)\n",
    "    for (i in 1:1000)\n",
    "    {\n",
    "        state <- rpois(1,4) #set initial state\n",
    "        regen <- 1\n",
    "        for (j in 1:n-1)\n",
    "        {\n",
    "            p <- dpois(state,4)/(1-sum(dpois(1:max(1,(state-1)),4)))\n",
    "            q <- 1-p\n",
    "            x <- which(rmultinom(1, 1, c(p,q))==1)\n",
    "            if(x==2){state <- state + 1} \n",
    "            else\n",
    "            {\n",
    "                regen <- cbind(regen, state)\n",
    "                state <- 1\n",
    "            }\n",
    "\n",
    "        }\n",
    "        vec[i] = state #final state at time n\n",
    "        mean_vec[i] = mean(cbind(regen,state)[-1])\n",
    "    }\n",
    "    if(prob=='a'){return(vec)}\n",
    "    else{return(mean_vec)}\n",
    "}"
   ]
  },
  {
   "cell_type": "code",
   "execution_count": 8,
   "metadata": {},
   "outputs": [],
   "source": [
    "backup_simulator <- function(n, prob)\n",
    "{\n",
    "    vec <- rep(0,1000)\n",
    "    mean_vec <- rep(0,1000)\n",
    "    for (i in 1:1000)\n",
    "    {\n",
    "        state <- rpois(1,4) #set initial state\n",
    "        regen <- 1\n",
    "        for (j in 1:n-1)\n",
    "        {\n",
    "            q <- dpois(state,4)\n",
    "            p <- 1-q\n",
    "            x <- which(rmultinom(1, 1, c(p,q))==1)\n",
    "            if(x==2){state <- state + 1} \n",
    "            else\n",
    "            {\n",
    "                regen <- cbind(regen, state)\n",
    "                state <- 1\n",
    "            }\n",
    "\n",
    "        }\n",
    "        vec[i] = state #final state at time n\n",
    "        mean_vec[i] = mean(cbind(regen,state)[-1])\n",
    "    }\n",
    "    if(prob=='a'){return(vec)}\n",
    "    else{return(mean_vec)}\n",
    "}"
   ]
  },
  {
   "cell_type": "code",
   "execution_count": 66,
   "metadata": {},
   "outputs": [],
   "source": [
    "#c\n",
    "\n",
    "Age <- simulator(500,'a')"
   ]
  },
  {
   "cell_type": "code",
   "execution_count": 82,
   "metadata": {},
   "outputs": [
    {
     "name": "stderr",
     "output_type": "stream",
     "text": [
      "Selecting by n\n"
     ]
    },
    {
     "data": {
      "text/html": [
       "<table>\n",
       "<thead><tr><th scope=col>Age</th><th scope=col>n</th></tr></thead>\n",
       "<tbody>\n",
       "\t<tr><td>  1</td><td>26 </td></tr>\n",
       "\t<tr><td>  2</td><td>16 </td></tr>\n",
       "\t<tr><td>  3</td><td>25 </td></tr>\n",
       "\t<tr><td>  4</td><td>13 </td></tr>\n",
       "\t<tr><td>  5</td><td> 7 </td></tr>\n",
       "\t<tr><td>427</td><td> 8 </td></tr>\n",
       "\t<tr><td>462</td><td> 7 </td></tr>\n",
       "\t<tr><td>485</td><td> 7 </td></tr>\n",
       "\t<tr><td>487</td><td> 7 </td></tr>\n",
       "\t<tr><td>496</td><td> 8 </td></tr>\n",
       "\t<tr><td>500</td><td>12 </td></tr>\n",
       "\t<tr><td>505</td><td> 7 </td></tr>\n",
       "\t<tr><td>506</td><td>11 </td></tr>\n",
       "\t<tr><td>508</td><td> 7 </td></tr>\n",
       "</tbody>\n",
       "</table>\n"
      ],
      "text/latex": [
       "\\begin{tabular}{r|ll}\n",
       " Age & n\\\\\n",
       "\\hline\n",
       "\t   1 & 26 \\\\\n",
       "\t   2 & 16 \\\\\n",
       "\t   3 & 25 \\\\\n",
       "\t   4 & 13 \\\\\n",
       "\t   5 &  7 \\\\\n",
       "\t 427 &  8 \\\\\n",
       "\t 462 &  7 \\\\\n",
       "\t 485 &  7 \\\\\n",
       "\t 487 &  7 \\\\\n",
       "\t 496 &  8 \\\\\n",
       "\t 500 & 12 \\\\\n",
       "\t 505 &  7 \\\\\n",
       "\t 506 & 11 \\\\\n",
       "\t 508 &  7 \\\\\n",
       "\\end{tabular}\n"
      ],
      "text/markdown": [
       "\n",
       "Age | n | \n",
       "|---|---|---|---|---|---|---|---|---|---|---|---|---|---|\n",
       "|   1 | 26  | \n",
       "|   2 | 16  | \n",
       "|   3 | 25  | \n",
       "|   4 | 13  | \n",
       "|   5 |  7  | \n",
       "| 427 |  8  | \n",
       "| 462 |  7  | \n",
       "| 485 |  7  | \n",
       "| 487 |  7  | \n",
       "| 496 |  8  | \n",
       "| 500 | 12  | \n",
       "| 505 |  7  | \n",
       "| 506 | 11  | \n",
       "| 508 |  7  | \n",
       "\n",
       "\n"
      ],
      "text/plain": [
       "   Age n \n",
       "1    1 26\n",
       "2    2 16\n",
       "3    3 25\n",
       "4    4 13\n",
       "5    5  7\n",
       "6  427  8\n",
       "7  462  7\n",
       "8  485  7\n",
       "9  487  7\n",
       "10 496  8\n",
       "11 500 12\n",
       "12 505  7\n",
       "13 506 11\n",
       "14 508  7"
      ]
     },
     "metadata": {},
     "output_type": "display_data"
    },
    {
     "data": {},
     "metadata": {},
     "output_type": "display_data"
    },
    {
     "data": {
      "image/png": "[encoded data removed]",
      "text/plain": [
       "plot without title"
      ]
     },
     "metadata": {},
     "output_type": "display_data"
    }
   ],
   "source": [
    "#c\n",
    "\n",
    "data.frame(Age) %>% group_by(Age) %>% tally() %>% top_n(10)\n",
    "\n",
    "ggplot(data = data.frame(Age), aes(x = Age, fill = Age)) + \n",
    "        geom_histogram(bins = 50, alpha = .75)"
   ]
  },
  {
   "cell_type": "code",
   "execution_count": 14,
   "metadata": {},
   "outputs": [],
   "source": [
    "backup_Age <- backup_simulator(500,'a')"
   ]
  },
  {
   "cell_type": "code",
   "execution_count": 15,
   "metadata": {},
   "outputs": [
    {
     "name": "stderr",
     "output_type": "stream",
     "text": [
      "Selecting by n\n"
     ]
    },
    {
     "data": {
      "text/html": [
       "<table>\n",
       "<thead><tr><th scope=col>backup_Age</th><th scope=col>n</th></tr></thead>\n",
       "<tbody>\n",
       "\t<tr><td>1  </td><td>925</td></tr>\n",
       "\t<tr><td>2  </td><td> 66</td></tr>\n",
       "\t<tr><td>3  </td><td>  3</td></tr>\n",
       "\t<tr><td>4  </td><td>  5</td></tr>\n",
       "\t<tr><td>5  </td><td>  1</td></tr>\n",
       "</tbody>\n",
       "</table>\n"
      ],
      "text/latex": [
       "\\begin{tabular}{r|ll}\n",
       " backup\\_Age & n\\\\\n",
       "\\hline\n",
       "\t 1   & 925\\\\\n",
       "\t 2   &  66\\\\\n",
       "\t 3   &   3\\\\\n",
       "\t 4   &   5\\\\\n",
       "\t 5   &   1\\\\\n",
       "\\end{tabular}\n"
      ],
      "text/markdown": [
       "\n",
       "backup_Age | n | \n",
       "|---|---|---|---|---|\n",
       "| 1   | 925 | \n",
       "| 2   |  66 | \n",
       "| 3   |   3 | \n",
       "| 4   |   5 | \n",
       "| 5   |   1 | \n",
       "\n",
       "\n"
      ],
      "text/plain": [
       "  backup_Age n  \n",
       "1 1          925\n",
       "2 2           66\n",
       "3 3            3\n",
       "4 4            5\n",
       "5 5            1"
      ]
     },
     "metadata": {},
     "output_type": "display_data"
    },
    {
     "data": {},
     "metadata": {},
     "output_type": "display_data"
    },
    {
     "data": {
      "image/png": "[encoded data removed]",
      "text/plain": [
       "plot without title"
      ]
     },
     "metadata": {},
     "output_type": "display_data"
    }
   ],
   "source": [
    "#c\n",
    "\n",
    "data.frame(backup_Age) %>% group_by(backup_Age) %>% tally() %>% top_n(10)\n",
    "\n",
    "ggplot(data = data.frame(backup_Age), aes(x = backup_Age, fill = backup_Age)) + \n",
    "        geom_histogram(bins = 15, alpha = .75)"
   ]
  },
  {
   "cell_type": "markdown",
   "metadata": {},
   "source": [
    "(c)\n",
    "\n",
    "We can see from the above chart that the lifetime distribution is heavily skewed to the left but is more densely populated and sloping upward as age increases. I think that this makes sense given the structure of the PMF, whereby the longer a hard drive lasts, the longer we can expect it to continue, from a probabilistic standpoint. Thus, I think that this histogram is indeed representative of both the lifetime and equilibrium distributions."
   ]
  },
  {
   "cell_type": "code",
   "execution_count": 83,
   "metadata": {},
   "outputs": [
    {
     "name": "stdout",
     "output_type": "stream",
     "text": [
      "Mean Age of X500: 316.597"
     ]
    }
   ],
   "source": [
    "#d\n",
    "\n",
    "Mean_Age <- mean(Age)\n",
    "cat('Mean Age of X500:', baMean_Age)"
   ]
  },
  {
   "cell_type": "markdown",
   "metadata": {},
   "source": [
    "(d)\n",
    "\n",
    "I think that the mean is indeed greater than the lifetime distribution. This result makes sense if we consider that many of the chains seem to reach equilibrium. As such, they remain in this equilibrium state, which is why the histogram is more densely populated for greater and greater ages."
   ]
  }
 ],
 "metadata": {
  "kernelspec": {
   "display_name": "Python 3",
   "language": "python",
   "name": "python3"
  },
  "language_info": {
   "codemirror_mode": {
    "name": "ipython",
    "version": 3
   },
   "file_extension": ".py",
   "mimetype": "text/x-python",
   "name": "python",
   "nbconvert_exporter": "python",
   "pygments_lexer": "ipython3",
   "version": "3.6.8"
  }
 },
 "nbformat": 4,
 "nbformat_minor": 2
}
